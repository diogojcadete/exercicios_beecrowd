{
 "cells": [
  {
   "cell_type": "markdown",
   "id": "30624dd5-3cd0-4eef-a0b7-1241a5201484",
   "metadata": {},
   "source": [
    "1003 - Soma simples"
   ]
  },
  {
   "cell_type": "code",
   "execution_count": null,
   "id": "5aba79ca-be4d-4cab-ae33-6ef701678458",
   "metadata": {},
   "outputs": [],
   "source": [
    "A = int(input())\n",
    "B = int(input())\n",
    "SOMA = A+B\n",
    "\n",
    "print(f'SOMA = {SOMA}')"
   ]
  },
  {
   "cell_type": "markdown",
   "id": "bb3a8bef-a5f6-421f-b8e2-20312687e0f6",
   "metadata": {},
   "source": [
    "1004 - Produto simples"
   ]
  },
  {
   "cell_type": "code",
   "execution_count": null,
   "id": "71d976ce-f638-49d2-aa02-cb631a7795b9",
   "metadata": {},
   "outputs": [],
   "source": [
    "A = int(input())\n",
    "B = int(input())\n",
    "PROD = A*B\n",
    "\n",
    "print(f'PROD = {PROD}')"
   ]
  },
  {
   "cell_type": "markdown",
   "id": "06755aa4-a58d-4137-859b-2ccbd4ce39d8",
   "metadata": {},
   "source": [
    "1005 - Media 1"
   ]
  },
  {
   "cell_type": "code",
   "execution_count": null,
   "id": "06cb47e0-e550-42f0-880c-687f3a418855",
   "metadata": {},
   "outputs": [],
   "source": [
    "A = round(float(input()),1)\n",
    "B = round(float(input()),1)\n",
    "MEDIA = (3.5*A + 7.5*B)/11\n",
    "\n",
    "print('MEDIA = {:.5f}'.format(MEDIA))"
   ]
  },
  {
   "cell_type": "code",
   "execution_count": null,
   "id": "339d71c9-0f2b-44bd-91cb-950435bca820",
   "metadata": {},
   "outputs": [],
   "source": []
  },
  {
   "cell_type": "code",
   "execution_count": null,
   "id": "48005e5b-d38a-45b5-bc31-adaae790d8c9",
   "metadata": {},
   "outputs": [],
   "source": []
  }
 ],
 "metadata": {
  "kernelspec": {
   "display_name": "Python 3",
   "language": "python",
   "name": "python3"
  },
  "language_info": {
   "codemirror_mode": {
    "name": "ipython",
    "version": 3
   },
   "file_extension": ".py",
   "mimetype": "text/x-python",
   "name": "python",
   "nbconvert_exporter": "python",
   "pygments_lexer": "ipython3",
   "version": "3.8.8"
  }
 },
 "nbformat": 4,
 "nbformat_minor": 5
}
