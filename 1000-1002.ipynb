{
 "cells": [
  {
   "cell_type": "markdown",
   "id": "35586e83-b33d-4dbf-b3c7-458f3a6c435e",
   "metadata": {},
   "source": [
    "1000 - Hello World!"
   ]
  },
  {
   "cell_type": "code",
   "execution_count": null,
   "id": "f5eade0f-5f78-415d-ab28-ffa5d786ea78",
   "metadata": {},
   "outputs": [],
   "source": [
    "print(\"Hello World!\")"
   ]
  },
  {
   "cell_type": "markdown",
   "id": "36fd9d4e-e548-4357-a53e-cf74286dc0c4",
   "metadata": {},
   "source": [
    "1001 - Extremamente básico"
   ]
  },
  {
   "cell_type": "code",
   "execution_count": null,
   "id": "dcf9d101-2736-425a-bbac-cc044fb9e3ce",
   "metadata": {},
   "outputs": [],
   "source": [
    "A = int(input())\n",
    "B = int(input())\n",
    "\n",
    "X = A + B\n",
    "\n",
    "print(f'X = {X}')"
   ]
  },
  {
   "cell_type": "markdown",
   "id": "ea0a1460-b196-4af2-86e8-299c7db3b52c",
   "metadata": {},
   "source": [
    "1002 - Área do círculo"
   ]
  },
  {
   "cell_type": "code",
   "execution_count": null,
   "id": "0dfce82c-c54e-477a-8005-256f6eed1573",
   "metadata": {},
   "outputs": [],
   "source": [
    "raio = float(input())\n",
    "pi = 3.14159\n",
    "A = pi * raio**2\n",
    "\n",
    "print(\"A = {:.4f}\".format(A))"
   ]
  }
 ],
 "metadata": {
  "kernelspec": {
   "display_name": "Python 3",
   "language": "python",
   "name": "python3"
  },
  "language_info": {
   "codemirror_mode": {
    "name": "ipython",
    "version": 3
   },
   "file_extension": ".py",
   "mimetype": "text/x-python",
   "name": "python",
   "nbconvert_exporter": "python",
   "pygments_lexer": "ipython3",
   "version": "3.8.8"
  }
 },
 "nbformat": 4,
 "nbformat_minor": 5
}
