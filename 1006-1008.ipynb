{
 "cells": [
  {
   "cell_type": "markdown",
   "id": "41898057-3e46-49f8-b3e8-21a23e7e34cd",
   "metadata": {},
   "source": [
    "1006 - Média 2"
   ]
  },
  {
   "cell_type": "code",
   "execution_count": null,
   "id": "5cd7c370-84b2-498d-a48c-bbccf7461900",
   "metadata": {},
   "outputs": [],
   "source": [
    "A = round(float(input()),1)\n",
    "B = round(float(input()),1)\n",
    "C = round(float(input()),1)\n",
    "MEDIA = (2*A+3*B+5*C)/10\n",
    "\n",
    "print(\"MEDIA = {:.1f}\".format(MEDIA))"
   ]
  },
  {
   "cell_type": "markdown",
   "id": "7a7b6e8b-d388-46f8-a69f-10d1e579dfa3",
   "metadata": {},
   "source": [
    "1007 - Diferença"
   ]
  },
  {
   "cell_type": "code",
   "execution_count": null,
   "id": "3b90eba7-4f9a-4cf9-9be9-705c9bbc89a6",
   "metadata": {},
   "outputs": [],
   "source": [
    "A = int(input())\n",
    "B = int(input())\n",
    "C = int(input())\n",
    "D = int(input())\n",
    "DIFERENCA = (A * B - C * D)\n",
    "\n",
    "print(\"DIFERENCA = {}\".format(DIFERENCA))"
   ]
  },
  {
   "cell_type": "markdown",
   "id": "3b3e7321-63ce-4724-9e92-8aa1ef77770c",
   "metadata": {},
   "source": [
    "1008 - Salário"
   ]
  },
  {
   "cell_type": "code",
   "execution_count": 3,
   "id": "cc30d381-ee58-4ecc-8eb5-df217bf3de18",
   "metadata": {},
   "outputs": [
    {
     "name": "stdin",
     "output_type": "stream",
     "text": [
      " 1\n",
      " 100\n",
      " 5.50\n"
     ]
    },
    {
     "name": "stdout",
     "output_type": "stream",
     "text": [
      "NUMBER = 1\n",
      "SALARY = U$ 550.00\n"
     ]
    }
   ],
   "source": [
    "FUNCIONARIO = int(input())\n",
    "HORAS = int(input())\n",
    "RENUMERACAO = float(input())\n",
    "\n",
    "print('NUMBER = {}\\nSALARY = U$ {:.2f}'.format(FUNCIONARIO, RENUMERACAO*HORAS))"
   ]
  },
  {
   "cell_type": "code",
   "execution_count": null,
   "id": "c760f061-3cd6-41aa-b44f-3b75732a8fae",
   "metadata": {},
   "outputs": [],
   "source": []
  }
 ],
 "metadata": {
  "kernelspec": {
   "display_name": "Python 3",
   "language": "python",
   "name": "python3"
  },
  "language_info": {
   "codemirror_mode": {
    "name": "ipython",
    "version": 3
   },
   "file_extension": ".py",
   "mimetype": "text/x-python",
   "name": "python",
   "nbconvert_exporter": "python",
   "pygments_lexer": "ipython3",
   "version": "3.8.8"
  }
 },
 "nbformat": 4,
 "nbformat_minor": 5
}
